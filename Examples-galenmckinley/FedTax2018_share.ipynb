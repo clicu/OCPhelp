{
 "cells": [
  {
   "cell_type": "code",
   "execution_count": null,
   "metadata": {},
   "outputs": [],
   "source": [
    "def federalincometax2018(grossincome,pretax):\n",
    "    \"\"\"Figure Federal Income tax in 2018, up to 400K; account for $24K standard deduction and $4K child\"\"\"\n",
    "    \n",
    "    standardded = 24000\n",
    "    child = 4000\n",
    "    \n",
    "    income = grossincome - pretax - standardded - child\n",
    "    \n",
    "    if income <= 19050:\n",
    "        tax = income*.1\n",
    "    elif income > 19050:\n",
    "        tax = 19050*.1\n",
    "        \n",
    "    if (income > 19051 and income <= 77400):\n",
    "        tax = tax + (income-19050)*.12\n",
    "    elif income > 77400:\n",
    "        tax = tax + (77400-19050)*.12\n",
    "        \n",
    "    if (income > 77401 and income <= 165000):\n",
    "        tax = tax + (income-77400)*.22\n",
    "    elif income > 165000:\n",
    "        tax = tax + (165000-77400)*.22\n",
    "        \n",
    "    if (income > 165001 and income <= 315000):\n",
    "        tax = tax + (income-165000)*.24\n",
    "    elif income > 315000:\n",
    "        tax = tax + (315000-165000)*.24   \n",
    "        \n",
    "    if (income > 315001 and income <= 400000):\n",
    "        tax = tax + (income-315000)*.32\n",
    "    elif income == 400000:\n",
    "        tax = tax + (400000-315000)*.32   \n",
    "    \n",
    "    return('tax',tax, '% gross', tax / grossincome, '% taxable', tax / income)\n",
    "    "
   ]
  }
 ],
 "metadata": {
  "kernelspec": {
   "display_name": "Python 3",
   "language": "python",
   "name": "python3"
  },
  "language_info": {
   "codemirror_mode": {
    "name": "ipython",
    "version": 3
   },
   "file_extension": ".py",
   "mimetype": "text/x-python",
   "name": "python",
   "nbconvert_exporter": "python",
   "pygments_lexer": "ipython3",
   "version": "3.6.5"
  }
 },
 "nbformat": 4,
 "nbformat_minor": 2
}
